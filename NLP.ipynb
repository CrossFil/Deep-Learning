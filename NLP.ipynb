{
  "nbformat": 4,
  "nbformat_minor": 0,
  "metadata": {
    "colab": {
      "provenance": []
    },
    "kernelspec": {
      "name": "python3",
      "display_name": "Python 3"
    },
    "language_info": {
      "name": "python"
    }
  },
  "cells": [
    {
      "cell_type": "markdown",
      "source": [
        "## Spam Detection Using Text Classification\n",
        "\n",
        "This notebook presents a practical implementation of a text classification task focused on detecting spam emails using machine learning and deep learning methods. Based on the publicly available *Email Spam Detection Dataset*, the objective is to classify email messages as either *spam* or *ham* (legitimate).\n",
        "\n",
        "The project demonstrates a full pipeline for processing and analyzing textual data: from preprocessing and vectorization to training various models and evaluating their performance.\n",
        "\n",
        "### Key steps included:\n",
        "\n",
        "- **Data Loading & Preprocessing**:  \n",
        "  - Initial exploration and class distribution analysis  \n",
        "  - Cleaning and normalization of text data (lowercasing, stop word removal, special characters cleanup)\n",
        "\n",
        "- **Text Vectorization Techniques**:  \n",
        "  - Application of `CountVectorizer` and `TfidfVectorizer` (Bag-of-Words and TF-IDF)  \n",
        "  - Limiting feature space with `max_features` and configuring `ngram_range`\n",
        "\n",
        "- **Pre-trained Embedding Integration**:  \n",
        "  - Using models like Word2Vec, GloVe, or FastText for semantic vector representation  \n",
        "  - Embedding conversion function applied to email texts\n",
        "\n",
        "- **Model Training & Evaluation**:  \n",
        "  - Logistic Regression and other ML classifiers trained on BoW and TF-IDF vectors  \n",
        "  - A separate model trained on embedding-based vectors  \n",
        "  - Performance metrics calculated: accuracy, AUC, and others  \n",
        "  - Comparative evaluation of vectorization methods\n",
        "\n",
        "- **Result Interpretation**:  \n",
        "  - Strengths and limitations of each method  \n",
        "  - Impact of embedding vs. count-based features on classification performance\n",
        "\n",
        "This notebook provides a compact, modular framework to approach real-world spam detection and can serve as a baseline for more advanced NLP tasks.\n"
      ],
      "metadata": {
        "id": "hv6aNqjaCzzf"
      }
    },
    {
      "cell_type": "code",
      "execution_count": null,
      "metadata": {
        "id": "5IHy2OcgcsLT"
      },
      "outputs": [],
      "source": [
        "import kagglehub\n",
        "\n",
        "dataset_path = kagglehub.dataset_download(\"shantanudhakadd/email-spam-detection-dataset-classification\")\n",
        "\n",
        "print(\"Path to dataset files:\", dataset_path)"
      ]
    },
    {
      "cell_type": "code",
      "source": [
        "import pandas as pd\n",
        "import numpy as np\n",
        "import re\n",
        "import string\n",
        "import matplotlib.pyplot as plt\n",
        "import seaborn as sns\n",
        "from sklearn.model_selection import train_test_split\n",
        "from sklearn.feature_extraction.text import CountVectorizer, TfidfVectorizer\n",
        "from sklearn.preprocessing import LabelEncoder\n",
        "from sklearn.linear_model import LogisticRegression\n",
        "from sklearn.ensemble import RandomForestClassifier\n",
        "from sklearn.metrics import accuracy_score, roc_auc_score, classification_report\n",
        "from nltk.corpus import stopwords\n",
        "from nltk.tokenize import word_tokenize\n",
        "import nltk\n",
        "from gensim.models import KeyedVectors\n",
        "\n",
        "nltk.download('stopwords')\n",
        "\n",
        "# Завантаження даних у DataFrame\n",
        "data = pd.read_csv(f\"{dataset_path}/spam.csv\", encoding='latin-1')\n",
        "data = data.iloc[:, :2]\n",
        "data.columns = ['label', 'text']\n",
        "\n",
        "# Перетворення міток у числовий формат\n",
        "label_encoder = LabelEncoder()\n",
        "data['label'] = label_encoder.fit_transform(data['label'])  # spam -> 1, ham -> 0\n",
        "\n",
        "# Візуалізація розподілу класів\n",
        "sns.countplot(x=data['label'])\n",
        "plt.title(\"Розподіл класів (Спам vs Легітимні)\")\n",
        "plt.show()\n",
        "\n",
        "# Функція для очищення тексту\n",
        "def preprocess_text(text):\n",
        "    text = text.lower()  # Приведення до нижнього регістру\n",
        "    text = re.sub(f\"[{string.punctuation}]\", \"\", text)  # Видалення пунктуації\n",
        "    words = word_tokenize(text)  # Токенізація\n",
        "    words = [word for word in words if word not in stopwords.words('english')]  # Видалення стоп-слів\n",
        "    return \" \".join(words)\n",
        "\n",
        "# Застосування очищення тексту\n",
        "data['clean_text'] = data['text'].apply(preprocess_text)\n",
        "\n",
        "# Розбиття на навчальну та валідаційну вибірки\n",
        "X_train, X_val, y_train, y_val = train_test_split(\n",
        "    data['clean_text'], data['label'], test_size=0.2, random_state=42, stratify=data['label']\n",
        ")\n",
        "\n",
        "# Векторизація тексту (BoW)\n",
        "vectorizer_bow = CountVectorizer(max_features=5000, ngram_range=(1, 2))\n",
        "X_train_bow = vectorizer_bow.fit_transform(X_train)\n",
        "X_val_bow = vectorizer_bow.transform(X_val)\n",
        "\n",
        "# Векторизація тексту (TF-IDF)\n",
        "vectorizer_tfidf = TfidfVectorizer(max_features=5000, ngram_range=(1, 2))\n",
        "X_train_tfidf = vectorizer_tfidf.fit_transform(X_train)\n",
        "X_val_tfidf = vectorizer_tfidf.transform(X_val)\n",
        "\n",
        "print(\"BoW та TF-IDF векторизація виконана.\")\n"
      ],
      "metadata": {
        "colab": {
          "base_uri": "https://localhost:8080/",
          "height": 523
        },
        "id": "Jpuyik9ReARy",
        "outputId": "2d15b0c2-228f-4d72-e6a4-6d6936a18070"
      },
      "execution_count": null,
      "outputs": [
        {
          "output_type": "stream",
          "name": "stderr",
          "text": [
            "[nltk_data] Downloading package stopwords to /root/nltk_data...\n",
            "[nltk_data]   Unzipping corpora/stopwords.zip.\n"
          ]
        },
        {
          "output_type": "display_data",
          "data": {
            "text/plain": [
              "<Figure size 640x480 with 1 Axes>"
            ],
            "image/png": "[encoded data removed]"
          },
          "metadata": {}
        },
        {
          "output_type": "stream",
          "name": "stdout",
          "text": [
            "BoW та TF-IDF векторизація виконана.\n"
          ]
        }
      ]
    },
    {
      "cell_type": "code",
      "source": [
        "# Завантаження попередньо навчених ембедингів Word2Vec\n",
        "embedding_path = kagglehub.dataset_download(\"leadbest/googlenewsvectorsnegative300\")\n",
        "word2vec_model = KeyedVectors.load_word2vec_format(f\"{embedding_path}/GoogleNews-vectors-negative300.bin\", binary=True)\n",
        "\n",
        "def text_to_embedding(text, model, vector_size=300):\n",
        "    words = text.split()\n",
        "    word_vectors = [model[word] for word in words if word in model]\n",
        "    if len(word_vectors) == 0:\n",
        "        return np.zeros(vector_size)\n",
        "    return np.mean(word_vectors, axis=0)\n",
        "\n",
        "# Застосування ембедингів до наборів даних\n",
        "X_train_w2v = np.array([text_to_embedding(text, word2vec_model) for text in X_train])\n",
        "X_val_w2v = np.array([text_to_embedding(text, word2vec_model) for text in X_val])\n",
        "\n",
        "print(\"BoW, TF-IDF та Word2Vec ембединг виконані.\")"
      ],
      "metadata": {
        "colab": {
          "base_uri": "https://localhost:8080/"
        },
        "id": "qeh0cdunfZ39",
        "outputId": "411a45f0-c238-4c4e-abbb-c3cd80cdd150"
      },
      "execution_count": null,
      "outputs": [
        {
          "output_type": "stream",
          "name": "stdout",
          "text": [
            "Warning: Looks like you're using an outdated `kagglehub` version (installed: 0.3.7), please consider upgrading to the latest version (0.3.8).\n",
            "Downloading from https://www.kaggle.com/api/v1/datasets/download/leadbest/googlenewsvectorsnegative300?dataset_version_number=2...\n"
          ]
        },
        {
          "output_type": "stream",
          "name": "stderr",
          "text": [
            "100%|██████████| 3.17G/3.17G [00:34<00:00, 99.5MB/s]"
          ]
        },
        {
          "output_type": "stream",
          "name": "stdout",
          "text": [
            "Extracting files...\n"
          ]
        },
        {
          "output_type": "stream",
          "name": "stderr",
          "text": [
            "\n"
          ]
        },
        {
          "output_type": "stream",
          "name": "stdout",
          "text": [
            "BoW, TF-IDF та Word2Vec ембединг виконані.\n"
          ]
        }
      ]
    },
    {
      "cell_type": "code",
      "source": [
        "# Побудова та навчання моделей\n",
        "# Модель Logistic Regression для BoW\n",
        "lr_bow = LogisticRegression()\n",
        "lr_bow.fit(X_train_bow, y_train)\n",
        "y_pred_bow = lr_bow.predict(X_val_bow)\n",
        "print(\"Точність Logistic Regression (BoW):\", accuracy_score(y_val, y_pred_bow))\n",
        "\n",
        "# Модель Logistic Regression для TF-IDF\n",
        "lr_tfidf = LogisticRegression()\n",
        "lr_tfidf.fit(X_train_tfidf, y_train)\n",
        "y_pred_tfidf = lr_tfidf.predict(X_val_tfidf)\n",
        "print(\"Точність Logistic Regression (TF-IDF):\", accuracy_score(y_val, y_pred_tfidf))\n",
        "\n",
        "# Модель Random Forest для Word2Vec\n",
        "rf_w2v = RandomForestClassifier()\n",
        "rf_w2v.fit(X_train_w2v, y_train)\n",
        "y_pred_w2v = rf_w2v.predict(X_val_w2v)\n",
        "print(\"Точність Random Forest (Word2Vec):\", accuracy_score(y_val, y_pred_w2v))\n"
      ],
      "metadata": {
        "colab": {
          "base_uri": "https://localhost:8080/"
        },
        "id": "Va8KHSx7eFKi",
        "outputId": "e7a93805-fd6a-420a-f709-ad98e8d6ca62"
      },
      "execution_count": null,
      "outputs": [
        {
          "output_type": "stream",
          "name": "stdout",
          "text": [
            "Точність Logistic Regression (BoW): 0.9820627802690582\n",
            "Точність Logistic Regression (TF-IDF): 0.9641255605381166\n",
            "Точність Random Forest (Word2Vec): 0.957847533632287\n"
          ]
        }
      ]
    },
    {
      "cell_type": "code",
      "source": [
        "# Оцінка моделей\n",
        "print(\"\\nОцінка моделей:\")\n",
        "print(\"Logistic Regression (BoW):\")\n",
        "print(classification_report(y_val, y_pred_bow))\n",
        "print(\"AUC:\", roc_auc_score(y_val, y_pred_bow))\n",
        "\n",
        "print(\"\\nLogistic Regression (TF-IDF):\")\n",
        "print(classification_report(y_val, y_pred_tfidf))\n",
        "print(\"AUC:\", roc_auc_score(y_val, y_pred_tfidf))\n",
        "\n",
        "print(\"\\nRandom Forest (Word2Vec):\")\n",
        "print(classification_report(y_val, y_pred_w2v))\n",
        "print(\"AUC:\", roc_auc_score(y_val, y_pred_w2v))"
      ],
      "metadata": {
        "colab": {
          "base_uri": "https://localhost:8080/"
        },
        "id": "1aEW9_K5gLg-",
        "outputId": "35439b6a-7b49-472b-d5a6-53e3d7aa8bc5"
      },
      "execution_count": null,
      "outputs": [
        {
          "output_type": "stream",
          "name": "stdout",
          "text": [
            "\n",
            "Оцінка моделей:\n",
            "Logistic Regression (BoW):\n",
            "              precision    recall  f1-score   support\n",
            "\n",
            "           0       0.98      1.00      0.99       966\n",
            "           1       1.00      0.87      0.93       149\n",
            "\n",
            "    accuracy                           0.98      1115\n",
            "   macro avg       0.99      0.93      0.96      1115\n",
            "weighted avg       0.98      0.98      0.98      1115\n",
            "\n",
            "AUC: 0.9328859060402684\n",
            "\n",
            "Logistic Regression (TF-IDF):\n",
            "              precision    recall  f1-score   support\n",
            "\n",
            "           0       0.96      1.00      0.98       966\n",
            "           1       0.97      0.75      0.85       149\n",
            "\n",
            "    accuracy                           0.96      1115\n",
            "   macro avg       0.97      0.87      0.91      1115\n",
            "weighted avg       0.96      0.96      0.96      1115\n",
            "\n",
            "AUC: 0.8742861311434408\n",
            "\n",
            "Random Forest (Word2Vec):\n",
            "              precision    recall  f1-score   support\n",
            "\n",
            "           0       0.95      1.00      0.98       966\n",
            "           1       0.99      0.69      0.81       149\n",
            "\n",
            "    accuracy                           0.96      1115\n",
            "   macro avg       0.97      0.85      0.90      1115\n",
            "weighted avg       0.96      0.96      0.95      1115\n",
            "\n",
            "AUC: 0.8451199855489321\n"
          ]
        }
      ]
    },
    {
      "cell_type": "code",
      "source": [
        "# Аналіз та інтерпретація результатів\n",
        "best_model = max([\n",
        "    (\"Logistic Regression (BoW)\", accuracy_score(y_val, y_pred_bow)),\n",
        "    (\"Logistic Regression (TF-IDF)\", accuracy_score(y_val, y_pred_tfidf)),\n",
        "    (\"Random Forest (Word2Vec)\", accuracy_score(y_val, y_pred_w2v))\n",
        "], key=lambda x: x[1])\n",
        "\n",
        "print(\"\\nНайкраща модель:\", best_model[0], \"з точністю:\", best_model[1])\n",
        "\n",
        "print(\"\\nПереваги та недоліки підходів:\")\n",
        "print(\"- BoW: Простий у реалізації, але не враховує значення слів у контексті.\")\n",
        "print(\"- TF-IDF: Враховує важливість слів, але все ще не враховує порядок слів.\")\n",
        "print(\"- Word2Vec: Враховує семантичне значення слів, але потребує більше ресурсів для навчання та обчислень.\")\n"
      ],
      "metadata": {
        "colab": {
          "base_uri": "https://localhost:8080/"
        },
        "id": "pwxLF1X3gh7y",
        "outputId": "4d971830-6afe-456a-fff1-b4483ab88d4c"
      },
      "execution_count": null,
      "outputs": [
        {
          "output_type": "stream",
          "name": "stdout",
          "text": [
            "\n",
            "Найкраща модель: Logistic Regression (BoW) з точністю: 0.9820627802690582\n",
            "\n",
            "Переваги та недоліки підходів:\n",
            "- BoW: Простий у реалізації, але не враховує значення слів у контексті.\n",
            "- TF-IDF: Враховує важливість слів, але все ще не враховує порядок слів.\n",
            "- Word2Vec: Враховує семантичне значення слів, але потребує більше ресурсів для навчання та обчислень.\n"
          ]
        }
      ]
    },
    {
      "cell_type": "markdown",
      "source": [
        "# Аналіз та інтерпретація результатів\n",
        "\n",
        "1. Порівняння точності моделей\n",
        "\n",
        "- Logistic Regression (BoW) – 98.2%\n",
        "\n",
        "- Logistic Regression (TF-IDF) – 96.4%\n",
        "\n",
        "- Random Forest (Word2Vec) – 95.8%\n",
        "\n",
        "З усіх моделей найкращу точність показала Logistic Regression з BoW, тоді як методи TF-IDF та Word2Vec показали трохи гірші результати.\n",
        "\n",
        "2. Аналіз Precision, Recall та F1-score\n",
        "\n",
        "- BoW: Найвищі значення Precision (1.00) та Recall (0.87) для класу спаму, що вказує на хороше розпізнавання спам-листів при мінімальній кількості помилок.\n",
        "\n",
        "- TF-IDF: Recall для спаму лише 0.75, тобто більше помилкових негативних результатів (коли спам розпізнається як легітимний лист).\n",
        "\n",
        "- Word2Vec: Найгірший результат для спаму (Recall 0.69), що свідчить про низьку здатність моделі знаходити всі спам-листи.\n",
        "\n",
        "3. Оцінка AUC (Area Under Curve)\n",
        "- BoW: 0.93\n",
        "- TF-IDF: 0.87\n",
        "- Word2Vec: 0.85\n",
        "\n",
        "AUC підтверджує, що Logistic Regression (BoW) найкраще розрізняє класи.\n",
        "\n",
        "4. Переваги та недоліки підходів\n",
        "\n",
        "BoW (Bag of Words)\n",
        "\n",
        "✅ Простий у реалізації, добре працює для текстових задач\n",
        "\n",
        "❌ Ігнорує семантику слів, збільшує розмірність\n",
        "\n",
        "TF-IDF (Term Frequency - Inverse Document Frequency)\n",
        "\n",
        "✅ Більш точний у врахуванні важливості слів\n",
        "\n",
        "❌ Гірше розпізнає спам через низький Recall\n",
        "\n",
        "Word2Vec (Попередньо навчені ембединги)\n",
        "\n",
        "✅ Враховує семантичні зв’язки між словами\n",
        "\n",
        "❌ Гірше працює для класифікації спаму, можливо через недостатнє узгодження з доменною лексикою\n",
        "\n",
        "# Висновок\n",
        "Найкращий результат показала Logistic Regression (BoW), тому що метод ефективно розрізняє спам-листи, навіть без глибокого врахування контексту. Для покращення моделей можна спробувати глибші нейромережі з сучаснішими ембедингами (наприклад, BERT або Transformer), які краще адаптуються до контексту текстів."
      ],
      "metadata": {
        "id": "gy6Uzgsvl1B2"
      }
    }
  ]
}